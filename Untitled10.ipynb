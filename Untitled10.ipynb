{
 "cells": [
  {
   "cell_type": "code",
   "execution_count": 2,
   "id": "c724bc2b-98ad-47d0-b7a0-2dc562b77870",
   "metadata": {},
   "outputs": [
    {
     "name": "stdout",
     "output_type": "stream",
     "text": [
      "<class 'pandas.core.frame.DataFrame'>\n",
      "RangeIndex: 6435 entries, 0 to 6434\n",
      "Data columns (total 8 columns):\n",
      " #   Column        Non-Null Count  Dtype  \n",
      "---  ------        --------------  -----  \n",
      " 0   Store         6435 non-null   int64  \n",
      " 1   Date          6435 non-null   object \n",
      " 2   Weekly_Sales  6435 non-null   float64\n",
      " 3   Holiday_Flag  6435 non-null   int64  \n",
      " 4   Temperature   6435 non-null   float64\n",
      " 5   Fuel_Price    6435 non-null   float64\n",
      " 6   CPI           6435 non-null   float64\n",
      " 7   Unemployment  6435 non-null   float64\n",
      "dtypes: float64(5), int64(2), object(1)\n",
      "memory usage: 402.3+ KB\n"
     ]
    },
    {
     "data": {
      "text/plain": [
       "(   Store        Date  Weekly_Sales  Holiday_Flag  Temperature  Fuel_Price  \\\n",
       " 0      1  05-02-2010    1643690.90             0        42.31       2.572   \n",
       " 1      1  12-02-2010    1641957.44             1        38.51       2.548   \n",
       " 2      1  19-02-2010    1611968.17             0        39.93       2.514   \n",
       " 3      1  26-02-2010    1409727.59             0        46.63       2.561   \n",
       " 4      1  05-03-2010    1554806.68             0        46.50       2.625   \n",
       " \n",
       "           CPI  Unemployment  \n",
       " 0  211.096358         8.106  \n",
       " 1  211.242170         8.106  \n",
       " 2  211.289143         8.106  \n",
       " 3  211.319643         8.106  \n",
       " 4  211.350143         8.106  ,\n",
       " None,\n",
       "              Store  Weekly_Sales  Holiday_Flag  Temperature   Fuel_Price  \\\n",
       " count  6435.000000  6.435000e+03   6435.000000  6435.000000  6435.000000   \n",
       " mean     23.000000  1.046965e+06      0.069930    60.663782     3.358607   \n",
       " std      12.988182  5.643666e+05      0.255049    18.444933     0.459020   \n",
       " min       1.000000  2.099862e+05      0.000000    -2.060000     2.472000   \n",
       " 25%      12.000000  5.533501e+05      0.000000    47.460000     2.933000   \n",
       " 50%      23.000000  9.607460e+05      0.000000    62.670000     3.445000   \n",
       " 75%      34.000000  1.420159e+06      0.000000    74.940000     3.735000   \n",
       " max      45.000000  3.818686e+06      1.000000   100.140000     4.468000   \n",
       " \n",
       "                CPI  Unemployment  \n",
       " count  6435.000000   6435.000000  \n",
       " mean    171.578394      7.999151  \n",
       " std      39.356712      1.875885  \n",
       " min     126.064000      3.879000  \n",
       " 25%     131.735000      6.891000  \n",
       " 50%     182.616521      7.874000  \n",
       " 75%     212.743293      8.622000  \n",
       " max     227.232807     14.313000  )"
      ]
     },
     "execution_count": 2,
     "metadata": {},
     "output_type": "execute_result"
    }
   ],
   "source": [
    "import pandas as pd\n",
    "\n",
    "# Load the dataset\n",
    "file_path = 'Walmart.csv'\n",
    "data = pd.read_csv(file_path)\n",
    "\n",
    "# Display the first few rows and basic information about the dataset\n",
    "data.head(), data.info(), data.describe()\n"
   ]
  },
  {
   "cell_type": "code",
   "execution_count": 3,
   "id": "608ae19a-9675-4e89-90d7-fac862afe606",
   "metadata": {},
   "outputs": [
    {
     "name": "stderr",
     "output_type": "stream",
     "text": [
      "C:\\Users\\DHAVAL\\anaconda3\\lib\\site-packages\\scipy\\__init__.py:155: UserWarning: A NumPy version >=1.18.5 and <1.25.0 is required for this version of SciPy (detected version 1.26.4\n",
      "  warnings.warn(f\"A NumPy version >={np_minversion} and <{np_maxversion}\"\n"
     ]
    },
    {
     "data": {
      "text/plain": [
       "(array([[-1.16466588, -0.26842748,  0.8057783 , -1.71088305,  1.10380441,\n",
       "         -0.8978744 , -1.22576021,  0.7955697 ,  0.79789733],\n",
       "        [-1.24165623, -0.26842748, -2.15108453,  0.01856676,  0.52254808,\n",
       "          0.43847483,  0.0325077 , -1.05624317, -1.11197777],\n",
       "        [ 1.45300579, -0.26842748,  0.04355515, -0.51121407, -1.14613429,\n",
       "          0.53724615, -1.22576021,  1.41284065,  1.36378625],\n",
       "        [-0.62573348, -0.26842748,  0.47392973,  1.18758726, -0.89989198,\n",
       "         -0.10183097,  0.0325077 ,  0.48693422,  0.58568899],\n",
       "        [ 1.45300579, -0.26842748,  1.45973113,  0.83075141, -1.077504  ,\n",
       "          0.13895749,  0.0325077 ,  0.48693422,  0.51495287]]),\n",
       " array([[-0.39476245, -0.26842748, -0.97689275, -1.22269659, -1.01271986,\n",
       "          0.64349205, -1.22576021, -1.05624317, -1.11197777],\n",
       "        [ 0.06717961, -0.26842748,  0.45714783,  1.31455952, -0.92404756,\n",
       "          0.11493203,  0.0325077 , -0.13033674, -0.05093605],\n",
       "        [-1.62660794, -0.26842748,  0.29420097,  0.01856676,  1.1661231 ,\n",
       "         -0.29670411,  0.0325077 ,  1.10420518,  1.22231402],\n",
       "        [ 0.22116029, -0.26842748, -1.10194499,  0.45202379, -0.89357017,\n",
       "         -0.21288196,  0.0325077 ,  1.41284065,  1.36378625],\n",
       "        [ 0.99106373, -0.26842748, -0.04739193, -1.45037099,  0.97904011,\n",
       "          0.29752549, -1.22576021, -1.05624317, -1.04124166]]))"
      ]
     },
     "execution_count": 3,
     "metadata": {},
     "output_type": "execute_result"
    }
   ],
   "source": [
    "from sklearn.model_selection import train_test_split\n",
    "from sklearn.preprocessing import StandardScaler\n",
    "from datetime import datetime\n",
    "\n",
    "# Convert 'Date' column to datetime format\n",
    "data['Date'] = pd.to_datetime(data['Date'], format='%d-%m-%Y')\n",
    "\n",
    "# Feature Engineering: Extract year, month, and week from the Date\n",
    "data['Year'] = data['Date'].dt.year\n",
    "data['Month'] = data['Date'].dt.month\n",
    "data['Week'] = data['Date'].dt.isocalendar().week\n",
    "\n",
    "# Drop the original Date column\n",
    "data = data.drop('Date', axis=1)\n",
    "\n",
    "# Define features and target variable\n",
    "X = data.drop('Weekly_Sales', axis=1)\n",
    "y = data['Weekly_Sales']\n",
    "\n",
    "# Split the data into training and testing sets (80% train, 20% test)\n",
    "X_train, X_test, y_train, y_test = train_test_split(X, y, test_size=0.2, random_state=42)\n",
    "\n",
    "# Standardize the features\n",
    "scaler = StandardScaler()\n",
    "X_train_scaled = scaler.fit_transform(X_train)\n",
    "X_test_scaled = scaler.transform(X_test)\n",
    "\n",
    "X_train_scaled[:5], X_test_scaled[:5]\n"
   ]
  },
  {
   "cell_type": "code",
   "execution_count": 7,
   "id": "02d155de-8a89-40ea-8dd5-9dcb128630c5",
   "metadata": {},
   "outputs": [
    {
     "data": {
      "text/plain": [
       "(13365855228.832611, 63197.56307614608, 0.9585110481236588)"
      ]
     },
     "execution_count": 7,
     "metadata": {},
     "output_type": "execute_result"
    }
   ],
   "source": [
    "from sklearn.ensemble import RandomForestRegressor\n",
    "from sklearn.metrics import mean_squared_error, mean_absolute_error, r2_score\n",
    "\n",
    "# Initialize and train the Random Forest model\n",
    "rf_model = RandomForestRegressor(n_estimators=100, random_state=42)\n",
    "rf_model.fit(X_train_scaled, y_train)\n",
    "\n",
    "# Make predictions on the test set\n",
    "y_pred_rf = rf_model.predict(X_test_scaled)\n",
    "\n",
    "# Evaluate the model\n",
    "mse_rf = mean_squared_error(y_test, y_pred_rf)\n",
    "mae_rf = mean_absolute_error(y_test, y_pred_rf)\n",
    "r2_rf = r2_score(y_test, y_pred_rf)\n",
    "\n",
    "mse_rf, mae_rf, r2_rf\n"
   ]
  },
  {
   "cell_type": "code",
   "execution_count": null,
   "id": "5ca850e7-8e70-4933-bdda-454b1c37fde8",
   "metadata": {},
   "outputs": [],
   "source": []
  }
 ],
 "metadata": {
  "kernelspec": {
   "display_name": "Python 3 (ipykernel)",
   "language": "python",
   "name": "python3"
  },
  "language_info": {
   "codemirror_mode": {
    "name": "ipython",
    "version": 3
   },
   "file_extension": ".py",
   "mimetype": "text/x-python",
   "name": "python",
   "nbconvert_exporter": "python",
   "pygments_lexer": "ipython3",
   "version": "3.9.13"
  }
 },
 "nbformat": 4,
 "nbformat_minor": 5
}
